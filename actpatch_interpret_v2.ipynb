{
 "cells": [
  {
   "cell_type": "code",
   "execution_count": null,
   "id": "db463ddc-6e76-47df-a093-f6ef2b14e89d",
   "metadata": {},
   "outputs": [],
   "source": [
    "import torch\n",
    "from transformers import AutoTokenizer, AutoModelForCausalLM\n",
    "from datasets import load_dataset\n",
    "\n",
    "from transformers import LogitsProcessorList, RepetitionPenaltyLogitsProcessor\n",
    "from peft import PeftModel\n",
    "import torch.nn.functional as F\n",
    "\n",
    "import matplotlib.pyplot as plt\n",
    "import numpy as np\n",
    "from sklearn.decomposition import PCA\n",
    "from sklearn.linear_model import LogisticRegression\n",
    "from sklearn.metrics import roc_auc_score\n",
    "from sklearn.utils import resample\n",
    "from scipy.stats import entropy"
   ]
  },
  {
   "cell_type": "code",
   "execution_count": null,
   "id": "cb962753-9d33-4a86-95f4-d84c6be18896",
   "metadata": {},
   "outputs": [],
   "source": [
    "tokenizer = AutoTokenizer.from_pretrained(\"../../models/deepseek/DeepSeek-R1-Distill-Qwen-1.5B/\")\n",
    "model1 = AutoModelForCausalLM.from_pretrained(\"../../models/deepseek/DeepSeek-R1-Distill-Qwen-1.5B/\")\n",
    "model2 = AutoModelForCausalLM.from_pretrained(\"../../models/deepseek/DeepSeek-R1-Distill-Qwen-1.5B/\")\n",
    "model2 = PeftModel.from_pretrained(model2, \"../../models/own/cr_v2\")"
   ]
  },
  {
   "cell_type": "code",
   "execution_count": null,
   "id": "56b87dc1-2056-4946-ba9f-778a9058904d",
   "metadata": {},
   "outputs": [],
   "source": [
    "device = 'cuda:0'\n",
    "model.to(device)\n",
    "model2.to(device)\n",
    "ds = load_dataset(\"Elfsong/BBQ\")"
   ]
  },
  {
   "cell_type": "code",
   "execution_count": null,
   "id": "c43d92c5-261b-4e8e-a8db-ec4ed458f29e",
   "metadata": {},
   "outputs": [],
   "source": [
    "def load_data(i=0):\n",
    "    i = i\n",
    "    input_text = \"Context: \" + ds['religion'][i]['context'] + \\\n",
    "    \"\\nQuestion: \" + ds['religion'][i]['question'] + \"\\nChoices: \" + ds['religion'][i]['ans0'] + \\\n",
    "    \", \" + ds['religion'][i]['ans1'] + \", \" + ds['religion'][i]['ans2'] + \"\\n\\n<think>\\n\"\n",
    "    print(input_text)\n",
    "    return input_text\n",
    "# inputs = tokenizer(input_text, return_tensors=\"pt\").to(model.device)"
   ]
  },
  {
   "cell_type": "code",
   "execution_count": null,
   "id": "a7394a59-a3e2-4322-ba41-601fd972932d",
   "metadata": {},
   "outputs": [],
   "source": [
    "context = {}\n",
    "intervene_act = {}"
   ]
  },
  {
   "cell_type": "code",
   "execution_count": null,
   "id": "480ece0f-03ab-4ec3-a09a-91894045ab77",
   "metadata": {},
   "outputs": [],
   "source": [
    "def infer_with_patch(model, inputt, layers_to_track=[7, 13, 20, 25], save=False, patch=False):\n",
    "    max_new_tokens = 600\n",
    "    generated_ids = tokenizer(inputt, return_tensors=\"pt\").input_ids.to(model.device)\n",
    "    past_key_values = None\n",
    "    start_pos = context[\"global_pos\"] = generated_ids.shape[-1]\n",
    "\n",
    "    if save:\n",
    "        intervene_act[\"layer_12\"] = []\n",
    "        def save_hook(module, input, output):\n",
    "            intervene_act[\"layer_12\"].append(output[0].detach().cpu())\n",
    "            return None\n",
    "        hookA = model.base_model.model.model.layers[11].register_forward_hook(save_hook)\n",
    "        \n",
    "    if patch:\n",
    "        def patch_hook(module, input, output):\n",
    "            if \"layer_12\" not in intervene_act:\n",
    "                return None\n",
    "        \n",
    "            orig_act = output[0].clone()\n",
    "            new_act = intervene_act[\"layer_12\"].to(output[0].device)\n",
    "        \n",
    "            global_pos = context[\"global_pos\"]\n",
    "        \n",
    "            if start <= global_pos <= end and global_pos <= new_act.shape[1]:\n",
    "                orig_act[:, -1, :] += new_act[:, global_pos - 1, :]\n",
    "        \n",
    "            return (orig_act,)\n",
    "        \n",
    "        hookB = model.model.layers[11].register_forward_hook(patch_hook)\n",
    "    \n",
    "    processors = LogitsProcessorList()\n",
    "    processors.append(RepetitionPenaltyLogitsProcessor(penalty=1.2))\n",
    "\n",
    "    hidden_states_log = {L: [] for L in layers_to_track} \n",
    "\n",
    "    for step in range(max_new_tokens):\n",
    "        next_input_ids = generated_ids[:, -1:] if past_key_values else generated_ids\n",
    "\n",
    "        with torch.no_grad():\n",
    "            outputs = model(\n",
    "                input_ids=next_input_ids,\n",
    "                past_key_values=past_key_values,\n",
    "                use_cache=True,\n",
    "                output_hidden_states=True\n",
    "            )\n",
    "            logits = outputs.logits\n",
    "            past_key_values = outputs.past_key_values\n",
    "\n",
    "        for L in layers_to_track:\n",
    "            h_t = outputs.hidden_states[L][:, -1, :]  # shape [1, d]\n",
    "            hidden_states_log[L].append(h_t)\n",
    "\n",
    "        next_token_logits = logits[:, -1, :]\n",
    "        next_token_logits = processors(generated_ids, next_token_logits)\n",
    "        next_token_id = torch.argmax(next_token_logits, dim=-1, keepdim=True)\n",
    "\n",
    "        generated_ids = torch.cat([generated_ids, next_token_id], dim=-1)\n",
    "        context[\"global_pos\"] = generated_ids.shape[-1]\n",
    "\n",
    "        if next_token_id.item() == tokenizer.eos_token_id:\n",
    "            break\n",
    "\n",
    "    generated_text = tokenizer.decode(generated_ids[0], skip_special_tokens=True)\n",
    "\n",
    "    for L in layers_to_track:\n",
    "        hidden_states_log[L] = torch.cat(hidden_states_log[L], dim=0).detach().cpu()\n",
    "\n",
    "    if save: hookA.remove()\n",
    "    if patch: hookB.remove()\n",
    "        \n",
    "    return generated_text, generated_ids, hidden_states_log"
   ]
  }
 ],
 "metadata": {
  "kernelspec": {
   "display_name": "Python (torch)",
   "language": "python",
   "name": "torch"
  },
  "language_info": {
   "codemirror_mode": {
    "name": "ipython",
    "version": 3
   },
   "file_extension": ".py",
   "mimetype": "text/x-python",
   "name": "python",
   "nbconvert_exporter": "python",
   "pygments_lexer": "ipython3",
   "version": "3.10.12"
  }
 },
 "nbformat": 4,
 "nbformat_minor": 5
}
